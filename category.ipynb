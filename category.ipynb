{
 "cells": [
  {
   "cell_type": "code",
   "execution_count": 1,
   "id": "8ff35ef1",
   "metadata": {},
   "outputs": [],
   "source": [
    "import pandas as pd\n",
    "import json\n",
    "import re\n",
    "from collections import Counter\n",
    "\n",
    "import warnings\n",
    "warnings.filterwarnings('ignore')"
   ]
  },
  {
   "cell_type": "code",
   "execution_count": 2,
   "id": "c096bd5e",
   "metadata": {},
   "outputs": [],
   "source": [
    "with open(\"./Documents/places.json\", \"r\", encoding=\"utf8\") as f:\n",
    "    contents = f.read() # string 타입\n",
    "    json_data = json.loads(contents)"
   ]
  },
  {
   "cell_type": "code",
   "execution_count": 3,
   "id": "53f89c1b",
   "metadata": {},
   "outputs": [],
   "source": [
    "place_list = []\n",
    "for i in json_data[\"place\"]:\n",
    "    place_list.append(i)"
   ]
  },
  {
   "cell_type": "code",
   "execution_count": 4,
   "id": "5c2d7478",
   "metadata": {
    "scrolled": true
   },
   "outputs": [
    {
     "name": "stdout",
     "output_type": "stream",
     "text": [
      "Counter({'카페,디저트': 231, '한식': 105, '육류,고기요리': 100, '일식당': 90, '중식당': 87, '양식-일반': 77, '요리주점': 68, '카페': 64, '베이커리': 62, '돼지고기구이': 59, '곱창,막창,양': 48, '브런치': 45, '이탈리아음식': 43, '돈가스': 42, '햄버거': 37, '이자카야': 37, '백숙,삼계탕': 33, '초밥,롤': 33, '와인': 29, '베트남음식': 28, '칼국수,만두': 28, '스파게티,파스타전문': 26, '냉면': 26, '맥주,호프': 24, '일본식라면': 24, '피자': 23, '족발,보쌈': 22, '소고기구이': 20, '다이어트,샐러드': 19, '생선회': 18, '종합분식': 18, '태국음식': 18, '우동,소바': 16, '떡볶이': 16, '멕시코,남미음식': 16, '국수': 15, '닭갈비': 15, '닭요리': 14, '바(BAR)': 13, '순대,순댓국': 13, '곰탕,설렁탕': 13, '샤브샤브': 13, '막국수': 12, '감자탕': 12, '치킨,닭강정': 11, '찌개,전골': 11, '스테이크,립': 11, '인도음식': 11, '패밀리레스토랑': 9, '빙수': 9, '전,빈대떡': 8, '한정식': 8, '퓨전음식': 8, '뷔페': 8, '양꼬치': 8, '양식': 8, '케이크전문': 7, '오리요리': 7, '전통,민속주점': 7, '아시아음식': 7, '주꾸미요리': 7, '딤섬,중식만두': 7, '조개요리': 7, '닭볶음탕': 6, '해물,생선요리': 6, '닭발': 6, '카레': 6, '분식': 6, '프랑스음식': 6, '포장마차': 6, '두부요리': 5, '샌드위치': 5, '만두': 5, '덮밥': 5, '도넛': 5, '국밥': 4, '양갈비': 4, '베이글': 4, '쌈밥': 4, '아귀찜,해물찜': 4, '백반,가정식': 4, '블루보틀': 4, '김밥': 4, '오징어요리': 4, '아이스크림': 3, '일식,초밥뷔페': 3, '장어,먹장어요리': 3, '스페인음식': 3, '일식튀김,꼬치': 3, '해장국': 3, '독일음식': 2, '매운탕,해물탕': 2, '이북음식': 2, '갈비탕': 2, '정육식당': 2, '보리밥': 2, '홍차전문점': 2, '기사식당': 2, '차': 2, '고기뷔페': 2, '101번지남산돈까스': 1, '72420': 1, '게요리': 1, '대구형제막창': 1, '찜닭': 1, '북카페': 1, '와플': 1, '킹크랩요리': 1, '라면': 1, '대게요리': 1, '크레페': 1, '밀도': 1, '바닷가재요리': 1, '술집': 1, '낙지요리': 1, '생선구이': 1, '해산물뷔페': 1, '토스트': 1})\n"
     ]
    }
   ],
   "source": [
    "categories = []\n",
    "for i in place_list:\n",
    "    if 'category' in json_data[\"place\"][i]:\n",
    "        category = json_data[\"place\"][i][\"category\"]\n",
    "        categories.append(category)\n",
    "        \n",
    "print(Counter(categories))"
   ]
  },
  {
   "cell_type": "code",
   "execution_count": 5,
   "id": "e60c465c",
   "metadata": {},
   "outputs": [],
   "source": [
    "for i in place_list:\n",
    "    if 'category' in json_data[\"place\"][i]:\n",
    "        category = json_data[\"place\"][i][\"category\"]\n",
    "        if \"카페,디저트\" == category or \"카페\" == category or \"디저트\" == category or \"베이커리\" == category or \"브런치\" == category or \"빙수\" == category or \"케이크전문\"  == category or \"샌드위치\" == category or \"도넛\" == category or \"베이글\" == category or \"블루보틀\" == category or \"아이스크림\" == category or \"홍차전문점\" == category or \"차\" == category or \"북카페\" == category or \"와플\" == category or \"크레페\" == category or \"토스트\"  == category:\n",
    "            json_data[\"place\"][i][\"category\"] = \"cafe\"\n",
    "        elif \"요리주점\" == category or \"이자카야\" == category or \"와인\" == category or \"맥주,호프\" == category or \"바(BAR)\" == category or \"포장마차\" == category or \"술집\" == category:\n",
    "            json_data[\"place\"][i][\"category\"] = \"drink\"\n",
    "        else:\n",
    "            json_data[\"place\"][i][\"category\"] = \"restaurant\""
   ]
  },
  {
   "cell_type": "code",
   "execution_count": 6,
   "id": "220a976c",
   "metadata": {},
   "outputs": [
    {
     "name": "stdout",
     "output_type": "stream",
     "text": [
      "Counter({'restaurant': 1445, 'cafe': 447, 'drink': 178})\n"
     ]
    }
   ],
   "source": [
    "categories = []\n",
    "for i in place_list:\n",
    "    if 'category' in json_data[\"place\"][i]:\n",
    "        category = json_data[\"place\"][i][\"category\"]\n",
    "        categories.append(category)\n",
    "        \n",
    "print(Counter(categories))"
   ]
  },
  {
   "cell_type": "code",
   "execution_count": 7,
   "id": "fe36eaf0",
   "metadata": {},
   "outputs": [],
   "source": [
    "with open(\"c_places.json\", 'w') as outfile:\n",
    "    json.dump(json_data, outfile)"
   ]
  },
  {
   "cell_type": "code",
   "execution_count": null,
   "id": "628b0279",
   "metadata": {},
   "outputs": [],
   "source": []
  }
 ],
 "metadata": {
  "kernelspec": {
   "display_name": "Python 3 (ipykernel)",
   "language": "python",
   "name": "python3"
  },
  "language_info": {
   "codemirror_mode": {
    "name": "ipython",
    "version": 3
   },
   "file_extension": ".py",
   "mimetype": "text/x-python",
   "name": "python",
   "nbconvert_exporter": "python",
   "pygments_lexer": "ipython3",
   "version": "3.9.15"
  }
 },
 "nbformat": 4,
 "nbformat_minor": 5
}
