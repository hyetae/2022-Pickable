{
 "cells": [
  {
   "cell_type": "code",
   "execution_count": 1,
   "id": "9c0d01fe",
   "metadata": {
    "scrolled": true
   },
   "outputs": [
    {
     "name": "stdout",
     "output_type": "stream",
     "text": [
      "\u001b[33mDEPRECATION: Configuring installation scheme with distutils config files is deprecated and will no longer work in the near future. If you are using a Homebrew or Linuxbrew Python, please see discussion at https://github.com/Homebrew/homebrew-core/issues/76621\u001b[0m\u001b[33m\n",
      "\u001b[0mRequirement already satisfied: firebase-admin in /opt/homebrew/lib/python3.9/site-packages (5.2.0)\n",
      "Requirement already satisfied: google-api-python-client>=1.7.8 in /opt/homebrew/lib/python3.9/site-packages (from firebase-admin) (2.52.0)\n",
      "Requirement already satisfied: cachecontrol>=0.12.6 in /opt/homebrew/lib/python3.9/site-packages (from firebase-admin) (0.12.11)\n",
      "Requirement already satisfied: google-api-core[grpc]<3.0.0dev,>=1.22.1 in /opt/homebrew/lib/python3.9/site-packages (from firebase-admin) (2.8.2)\n",
      "Requirement already satisfied: google-cloud-firestore>=2.1.0 in /opt/homebrew/lib/python3.9/site-packages (from firebase-admin) (2.5.3)\n",
      "Requirement already satisfied: google-cloud-storage>=1.37.1 in /opt/homebrew/lib/python3.9/site-packages (from firebase-admin) (2.4.0)\n",
      "Requirement already satisfied: msgpack>=0.5.2 in /opt/homebrew/lib/python3.9/site-packages (from cachecontrol>=0.12.6->firebase-admin) (1.0.4)\n",
      "Requirement already satisfied: requests in /opt/homebrew/lib/python3.9/site-packages (from cachecontrol>=0.12.6->firebase-admin) (2.28.1)\n",
      "Requirement already satisfied: protobuf<5.0.0dev,>=3.15.0 in /opt/homebrew/lib/python3.9/site-packages (from google-api-core[grpc]<3.0.0dev,>=1.22.1->firebase-admin) (3.20.1)\n",
      "Requirement already satisfied: googleapis-common-protos<2.0dev,>=1.56.2 in /opt/homebrew/lib/python3.9/site-packages (from google-api-core[grpc]<3.0.0dev,>=1.22.1->firebase-admin) (1.56.3)\n",
      "Requirement already satisfied: google-auth<3.0dev,>=1.25.0 in /opt/homebrew/lib/python3.9/site-packages (from google-api-core[grpc]<3.0.0dev,>=1.22.1->firebase-admin) (2.9.0)\n",
      "Requirement already satisfied: grpcio<2.0dev,>=1.33.2 in /opt/homebrew/lib/python3.9/site-packages (from google-api-core[grpc]<3.0.0dev,>=1.22.1->firebase-admin) (1.47.0)\n",
      "Requirement already satisfied: grpcio-status<2.0dev,>=1.33.2 in /opt/homebrew/lib/python3.9/site-packages (from google-api-core[grpc]<3.0.0dev,>=1.22.1->firebase-admin) (1.47.0)\n",
      "Requirement already satisfied: uritemplate<5,>=3.0.1 in /opt/homebrew/lib/python3.9/site-packages (from google-api-python-client>=1.7.8->firebase-admin) (4.1.1)\n",
      "Requirement already satisfied: google-auth-httplib2>=0.1.0 in /opt/homebrew/lib/python3.9/site-packages (from google-api-python-client>=1.7.8->firebase-admin) (0.1.0)\n",
      "Requirement already satisfied: httplib2<1dev,>=0.15.0 in /opt/homebrew/lib/python3.9/site-packages (from google-api-python-client>=1.7.8->firebase-admin) (0.20.4)\n",
      "Requirement already satisfied: proto-plus<2.0.0dev,>=1.20.5 in /opt/homebrew/lib/python3.9/site-packages (from google-cloud-firestore>=2.1.0->firebase-admin) (1.20.6)\n",
      "Requirement already satisfied: google-cloud-core<3.0.0dev,>=1.4.1 in /opt/homebrew/lib/python3.9/site-packages (from google-cloud-firestore>=2.1.0->firebase-admin) (2.3.1)\n",
      "Requirement already satisfied: google-resumable-media>=2.3.2 in /opt/homebrew/lib/python3.9/site-packages (from google-cloud-storage>=1.37.1->firebase-admin) (2.3.3)\n",
      "Requirement already satisfied: pyasn1-modules>=0.2.1 in /opt/homebrew/lib/python3.9/site-packages (from google-auth<3.0dev,>=1.25.0->google-api-core[grpc]<3.0.0dev,>=1.22.1->firebase-admin) (0.2.8)\n",
      "Requirement already satisfied: cachetools<6.0,>=2.0.0 in /opt/homebrew/lib/python3.9/site-packages (from google-auth<3.0dev,>=1.25.0->google-api-core[grpc]<3.0.0dev,>=1.22.1->firebase-admin) (5.2.0)\n",
      "Requirement already satisfied: rsa<5,>=3.1.4 in /opt/homebrew/lib/python3.9/site-packages (from google-auth<3.0dev,>=1.25.0->google-api-core[grpc]<3.0.0dev,>=1.22.1->firebase-admin) (4.8)\n",
      "Requirement already satisfied: six>=1.9.0 in ./Library/Python/3.9/lib/python/site-packages (from google-auth<3.0dev,>=1.25.0->google-api-core[grpc]<3.0.0dev,>=1.22.1->firebase-admin) (1.16.0)\n",
      "Requirement already satisfied: google-crc32c<2.0dev,>=1.0 in /opt/homebrew/lib/python3.9/site-packages (from google-resumable-media>=2.3.2->google-cloud-storage>=1.37.1->firebase-admin) (1.3.0)\n",
      "Requirement already satisfied: pyparsing!=3.0.0,!=3.0.1,!=3.0.2,!=3.0.3,<4,>=2.4.2 in /opt/homebrew/lib/python3.9/site-packages (from httplib2<1dev,>=0.15.0->google-api-python-client>=1.7.8->firebase-admin) (3.0.9)\n",
      "Requirement already satisfied: urllib3<1.27,>=1.21.1 in /opt/homebrew/lib/python3.9/site-packages (from requests->cachecontrol>=0.12.6->firebase-admin) (1.26.9)\n",
      "Requirement already satisfied: idna<4,>=2.5 in /opt/homebrew/lib/python3.9/site-packages (from requests->cachecontrol>=0.12.6->firebase-admin) (3.3)\n",
      "Requirement already satisfied: certifi>=2017.4.17 in /opt/homebrew/lib/python3.9/site-packages (from requests->cachecontrol>=0.12.6->firebase-admin) (2022.6.15)\n",
      "Requirement already satisfied: charset-normalizer<3,>=2 in /opt/homebrew/lib/python3.9/site-packages (from requests->cachecontrol>=0.12.6->firebase-admin) (2.1.0)\n",
      "Requirement already satisfied: pyasn1<0.5.0,>=0.4.6 in /opt/homebrew/lib/python3.9/site-packages (from pyasn1-modules>=0.2.1->google-auth<3.0dev,>=1.25.0->google-api-core[grpc]<3.0.0dev,>=1.22.1->firebase-admin) (0.4.8)\n",
      "\u001b[33mDEPRECATION: Configuring installation scheme with distutils config files is deprecated and will no longer work in the near future. If you are using a Homebrew or Linuxbrew Python, please see discussion at https://github.com/Homebrew/homebrew-core/issues/76621\u001b[0m\u001b[33m\n",
      "\u001b[0m"
     ]
    }
   ],
   "source": [
    "!pip install firebase-admin"
   ]
  },
  {
   "cell_type": "code",
   "execution_count": 2,
   "id": "a20b9964",
   "metadata": {},
   "outputs": [],
   "source": [
    "import pandas as pd\n",
    "import json\n",
    "import re\n",
    "from collections import Counter\n",
    "\n",
    "import warnings\n",
    "warnings.filterwarnings('ignore')"
   ]
  },
  {
   "cell_type": "code",
   "execution_count": 3,
   "id": "6b05e9c3",
   "metadata": {},
   "outputs": [],
   "source": [
    "import firebase_admin\n",
    "from firebase_admin import credentials\n",
    "from firebase_admin import firestore\n",
    "\n",
    "# Use the application default credentials\n",
    "cred = credentials.Certificate('./picable-9238b-86a64fe56ae3.json')\n",
    "app = firebase_admin.initialize_app(cred)\n",
    "\n",
    "db = firestore.client()"
   ]
  },
  {
   "cell_type": "code",
   "execution_count": 4,
   "id": "8e50c611",
   "metadata": {},
   "outputs": [],
   "source": [
    "with open(\"./finalplace.json\", \"r\", encoding=\"utf8\") as f:\n",
    "    contents = f.read() # string 타입\n",
    "    data = json.loads(contents)"
   ]
  },
  {
   "cell_type": "code",
   "execution_count": 5,
   "id": "0a65d7fd",
   "metadata": {},
   "outputs": [],
   "source": [
    "place_list = []\n",
    "for i in data[\"place\"]:\n",
    "    place_list.append(i)"
   ]
  },
  {
   "cell_type": "code",
   "execution_count": null,
   "id": "e77159e1",
   "metadata": {},
   "outputs": [],
   "source": [
    "for i in place_list:\n",
    "    try:\n",
    "        name = i\n",
    "    except:\n",
    "        name = None\n",
    "    try:\n",
    "        category = data['place'][i]['category']\n",
    "    except:\n",
    "        category = None\n",
    "    try:\n",
    "        image = data['place'][i]['image']\n",
    "    except:\n",
    "        image = None\n",
    "    try:\n",
    "        link = data['place'][i]['link']\n",
    "    except:\n",
    "        link = None\n",
    "    try:\n",
    "        address = data['place'][i]['map']\n",
    "    except:\n",
    "        address = None\n",
    "    try:\n",
    "        score = data['place'][i]['score']\n",
    "    except:\n",
    "        score = None\n",
    "    try:\n",
    "        tel = data['place'][i]['tel']\n",
    "    except:\n",
    "        tel = None\n",
    "    try:\n",
    "        time = data['place'][i]['time']\n",
    "    except:\n",
    "        time = None\n",
    "    try:\n",
    "        keyword = data['place'][i]['keyword']\n",
    "    except:\n",
    "        keyword = None\n",
    "    try:\n",
    "        latitude = data['place'][i]['latitude']\n",
    "    except:\n",
    "        latitude = None\n",
    "    try:\n",
    "        longitude = data['place'][i]['longitude']\n",
    "    except:\n",
    "        longitude = None\n",
    "    try:\n",
    "        review = {}\n",
    "        for j in range(len(data['place'][i]['review'])):\n",
    "            review[f'review_{j}'] = data['place'][i]['review'][j]\n",
    "    except:\n",
    "        review = None\n",
    "    try:   \n",
    "        doc_ref = db.collection(u'place').document()\n",
    "        doc_ref.set({\n",
    "            u'name' : name,\n",
    "            u'category' : category,\n",
    "            u'image' : image,\n",
    "            u'link' : link,\n",
    "            u'address' : address,\n",
    "            u'review' : review,\n",
    "            u'score' : score,\n",
    "            u'tel' : tel,\n",
    "            u'time' : time,\n",
    "            u'keyword' : keyword,\n",
    "            u'lat' : latitude,\n",
    "            u'long' : longitude\n",
    "        })\n",
    "    except:\n",
    "        print(\"cannot upload \" + i)"
   ]
  },
  {
   "cell_type": "code",
   "execution_count": null,
   "id": "fbf77e0e",
   "metadata": {},
   "outputs": [],
   "source": [
    "#place_list"
   ]
  },
  {
   "cell_type": "code",
   "execution_count": null,
   "id": "b803c5d6",
   "metadata": {},
   "outputs": [],
   "source": []
  }
 ],
 "metadata": {
  "kernelspec": {
   "display_name": "Python 3 (ipykernel)",
   "language": "python",
   "name": "python3"
  },
  "language_info": {
   "codemirror_mode": {
    "name": "ipython",
    "version": 3
   },
   "file_extension": ".py",
   "mimetype": "text/x-python",
   "name": "python",
   "nbconvert_exporter": "python",
   "pygments_lexer": "ipython3",
   "version": "3.9.15"
  }
 },
 "nbformat": 4,
 "nbformat_minor": 5
}
